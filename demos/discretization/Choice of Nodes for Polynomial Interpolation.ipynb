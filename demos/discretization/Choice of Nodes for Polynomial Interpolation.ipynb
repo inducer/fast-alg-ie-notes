{
 "cells": [
  {
   "cell_type": "markdown",
   "metadata": {},
   "source": [
    "# Choice of Nodes for Polynomial Interpolation"
   ]
  },
  {
   "cell_type": "code",
   "execution_count": 2,
   "metadata": {},
   "outputs": [],
   "source": [
    "import numpy as np\n",
    "import numpy.linalg as la\n",
    "\n",
    "from matplotlib.pyplot import (\n",
    "    clf, plot, show, xlim, ylim,\n",
    "    get_current_fig_manager, gca, draw, connect)"
   ]
  },
  {
   "cell_type": "markdown",
   "metadata": {},
   "source": [
    "Choose a function below:"
   ]
  },
  {
   "cell_type": "code",
   "execution_count": 3,
   "metadata": {},
   "outputs": [],
   "source": [
    "func = \"runge\"\n",
    "\n",
    "if func == \"sin\":\n",
    "    def f(x):\n",
    "        return np.sin(5*x)\n",
    "elif func == \"jump\":\n",
    "    def f(x):\n",
    "        result = 0*x\n",
    "        result.fill(-1)\n",
    "        result[x > 0] = 1\n",
    "        return result\n",
    "elif func == \"runge\":\n",
    "    def f(x):\n",
    "        return 1/(1+25*x**2)\n",
    "else:\n",
    "    raise RuntimeError(\"unknown function '%s'\" % func)"
   ]
  },
  {
   "cell_type": "markdown",
   "metadata": {},
   "source": [
    "Run this cell to play with the node placement toy:"
   ]
  },
  {
   "cell_type": "code",
   "execution_count": 4,
   "metadata": {},
   "outputs": [
    {
     "data": {
      "image/png": "[encoded data removed]",
      "text/plain": [
       "<Figure size 432x288 with 1 Axes>"
      ]
     },
     "metadata": {
      "needs_background": "light"
     },
     "output_type": "display_data"
    }
   ],
   "source": [
    "x_points = []\n",
    "y_points = []\n",
    "deg = [1]\n",
    "\n",
    "def update_plot():\n",
    "    clf()\n",
    "    xlim([-1, 1])\n",
    "    ylim([-1.5, 1.5])\n",
    "    gca().set_autoscale_on(False)\n",
    "    plot(x_points, y_points, 'o')\n",
    "\n",
    "    x = np.linspace(-1, 1, 500)\n",
    "    plot(x, f(x), \"--\")\n",
    "\n",
    "    if len(x_points) >= deg[0]+1:\n",
    "        eval_points = np.linspace(-1, 1, 500)\n",
    "        poly = np.poly1d(np.polyfit(\n",
    "            np.array(x_points),\n",
    "            np.array(y_points), deg[0]))\n",
    "        plot(eval_points, poly(eval_points), \"-\")\n",
    "\n",
    "\n",
    "def click(event):\n",
    "    \"\"\"If the left mouse button is pressed: draw a little square. \"\"\"\n",
    "    tb = get_current_fig_manager().toolbar\n",
    "    if event.button == 1 and event.inaxes and tb.mode == '':\n",
    "        x_points.append(event.xdata)\n",
    "        x_ary = np.array([event.xdata])\n",
    "        y_ary = f(x_ary)\n",
    "        y_points.append(y_ary[0])\n",
    "\n",
    "    if event.button == 3 and event.inaxes and tb.mode == '':\n",
    "        if len(x_points) >= deg[0]+2:\n",
    "            deg[0] += 1\n",
    "\n",
    "    update_plot()\n",
    "    draw()\n",
    "\n",
    "update_plot()\n",
    "connect('button_press_event', click)\n",
    "show()"
   ]
  },
  {
   "cell_type": "code",
   "execution_count": null,
   "metadata": {},
   "outputs": [],
   "source": []
  }
 ],
 "metadata": {
  "kernelspec": {
   "display_name": "Python 3",
   "language": "python",
   "name": "python3"
  },
  "language_info": {
   "codemirror_mode": {
    "name": "ipython",
    "version": 3
   },
   "file_extension": ".py",
   "mimetype": "text/x-python",
   "name": "python",
   "nbconvert_exporter": "python",
   "pygments_lexer": "ipython3",
   "version": "3.7.4+"
  }
 },
 "nbformat": 4,
 "nbformat_minor": 2
}
