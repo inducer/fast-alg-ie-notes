{
 "cells": [
  {
   "cell_type": "markdown",
   "metadata": {},
   "source": [
    "# Skeletonization using Proxies"
   ]
  },
  {
   "cell_type": "code",
   "execution_count": 1,
   "metadata": {},
   "outputs": [],
   "source": [
    "import numpy as np\n",
    "import numpy.linalg as la\n",
    "import matplotlib.pyplot as pt\n",
    "\n",
    "import scipy.linalg.interpolative as sli\n",
    "\n",
    "eps = 1e-7"
   ]
  },
  {
   "cell_type": "code",
   "execution_count": 2,
   "metadata": {},
   "outputs": [
    {
     "data": {
      "image/png": "[encoded data removed]",
      "text/plain": [
       "<Figure size 432x288 with 1 Axes>"
      ]
     },
     "metadata": {
      "needs_background": "light"
     },
     "output_type": "display_data"
    }
   ],
   "source": [
    "sources = np.random.rand(2, 200)\n",
    "targets = np.random.rand(2, 200) + 3\n",
    "\n",
    "pt.plot(sources[0], sources[1], \"go\")\n",
    "pt.plot(targets[0], targets[1], \"ro\")\n",
    "\n",
    "pt.xlim([-1, 5])\n",
    "pt.ylim([-1, 5])\n",
    "\n",
    "pt.gca().set_aspect(\"equal\")"
   ]
  },
  {
   "cell_type": "code",
   "execution_count": 27,
   "metadata": {},
   "outputs": [],
   "source": [
    "def interaction_mat(t, s):\n",
    "    all_distvecs = s.reshape(2, 1, -1) - t.reshape(2, -1, 1)\n",
    "    dists = np.sqrt(np.sum(all_distvecs**2, axis=0))\n",
    "    return np.log(dists)"
   ]
  },
  {
   "cell_type": "code",
   "execution_count": 28,
   "metadata": {},
   "outputs": [],
   "source": [
    "def numerical_rank(A, eps):\n",
    "    _, sigma, _ = la.svd(A)\n",
    "    return np.sum(sigma >= eps)"
   ]
  },
  {
   "cell_type": "markdown",
   "metadata": {},
   "source": [
    "Check the interaction rank:"
   ]
  },
  {
   "cell_type": "code",
   "execution_count": 29,
   "metadata": {},
   "outputs": [
    {
     "data": {
      "text/plain": [
       "9"
      ]
     },
     "execution_count": 29,
     "metadata": {},
     "output_type": "execute_result"
    }
   ],
   "source": [
    "#clear\n",
    "numerical_rank(interaction_mat(targets, sources), eps)"
   ]
  },
  {
   "cell_type": "markdown",
   "metadata": {},
   "source": [
    "**Idea:**\n",
    "\n",
    "* Don't want to build whole matrix to find the few rows/columns that actually matter.\n",
    "* Introduces \"proxies\" that stand in for\n",
    "    * *all sources outside the targets* or\n",
    "    * *all targets outside these sources*"
   ]
  },
  {
   "cell_type": "markdown",
   "metadata": {},
   "source": [
    "## Target Skeletonization"
   ]
  },
  {
   "cell_type": "code",
   "execution_count": 30,
   "metadata": {},
   "outputs": [],
   "source": [
    "nproxies = 25\n",
    "\n",
    "angles = np.linspace(0, 2*np.pi, nproxies)\n",
    "target_proxies = 3.5 + 1.5 * np.array([np.cos(angles), np.sin(angles)])"
   ]
  },
  {
   "cell_type": "code",
   "execution_count": 31,
   "metadata": {},
   "outputs": [
    {
     "data": {
      "image/png": "[encoded data removed]",
      "text/plain": [
       "<Figure size 432x288 with 1 Axes>"
      ]
     },
     "metadata": {
      "needs_background": "light"
     },
     "output_type": "display_data"
    }
   ],
   "source": [
    "pt.plot(sources[0], sources[1], \"go\")\n",
    "pt.plot(targets[0], targets[1], \"ro\")\n",
    "pt.plot(target_proxies[0], target_proxies[1], \"bo\")\n",
    "\n",
    "pt.xlim([-1, 5])\n",
    "pt.ylim([-1, 5])\n",
    "\n",
    "pt.gca().set_aspect(\"equal\")"
   ]
  },
  {
   "cell_type": "markdown",
   "metadata": {},
   "source": [
    "Construct the interaction matrix *from* the target proxies *to* the targets as `target_proxy_mat`.\n",
    "\n",
    "**A note on terminology:** The `target_proxies` are *near* the targets but *stand in* for far-away sources."
   ]
  },
  {
   "cell_type": "code",
   "execution_count": 32,
   "metadata": {},
   "outputs": [],
   "source": [
    "#clear\n",
    "target_proxy_mat = interaction_mat(targets, target_proxies)"
   ]
  },
  {
   "cell_type": "markdown",
   "metadata": {},
   "source": [
    "Check its numerical rank and shape:"
   ]
  },
  {
   "cell_type": "code",
   "execution_count": 33,
   "metadata": {},
   "outputs": [
    {
     "data": {
      "text/plain": [
       "24"
      ]
     },
     "execution_count": 33,
     "metadata": {},
     "output_type": "execute_result"
    }
   ],
   "source": [
    "#clear\n",
    "numerical_rank(target_proxy_mat, eps)"
   ]
  },
  {
   "cell_type": "code",
   "execution_count": 34,
   "metadata": {},
   "outputs": [
    {
     "data": {
      "text/plain": [
       "(200, 25)"
      ]
     },
     "execution_count": 34,
     "metadata": {},
     "output_type": "execute_result"
    }
   ],
   "source": [
    "#clear\n",
    "target_proxy_mat.shape"
   ]
  },
  {
   "cell_type": "markdown",
   "metadata": {},
   "source": [
    "Now compute an ID (row or column?):"
   ]
  },
  {
   "cell_type": "code",
   "execution_count": 35,
   "metadata": {},
   "outputs": [],
   "source": [
    "#clear\n",
    "idx, proj = sli.interp_decomp(target_proxy_mat.T, nproxies)"
   ]
  },
  {
   "cell_type": "markdown",
   "metadata": {},
   "source": [
    "Find the target skeleton as `target_skeleton`, i.e. the indices of the targets from which the remaining values can be recovered:"
   ]
  },
  {
   "cell_type": "code",
   "execution_count": 36,
   "metadata": {},
   "outputs": [],
   "source": [
    "#clear\n",
    "target_skeleton = idx[:nproxies]"
   ]
  },
  {
   "cell_type": "markdown",
   "metadata": {},
   "source": [
    "Check that the ID does what is promises:"
   ]
  },
  {
   "cell_type": "code",
   "execution_count": 37,
   "metadata": {},
   "outputs": [
    {
     "data": {
      "text/plain": [
       "6.738945834835623e-15"
      ]
     },
     "execution_count": 37,
     "metadata": {},
     "output_type": "execute_result"
    }
   ],
   "source": [
    "P = np.hstack([np.eye(nproxies), proj])[:,np.argsort(idx)]\n",
    "tpm_approx = P.T @ target_proxy_mat[target_skeleton]\n",
    "\n",
    "la.norm(tpm_approx - target_proxy_mat, 2)"
   ]
  },
  {
   "cell_type": "markdown",
   "metadata": {},
   "source": [
    "Plot the chosen \"skeleton\" and the proxies:"
   ]
  },
  {
   "cell_type": "code",
   "execution_count": 38,
   "metadata": {},
   "outputs": [
    {
     "data": {
      "image/png": "[encoded data removed]",
      "text/plain": [
       "<Figure size 432x288 with 1 Axes>"
      ]
     },
     "metadata": {
      "needs_background": "light"
     },
     "output_type": "display_data"
    }
   ],
   "source": [
    "pt.plot(sources[0], sources[1], \"go\")\n",
    "pt.plot(targets[0], targets[1], \"ro\", alpha=0.05)\n",
    "pt.plot(targets[0, target_skeleton], targets[1, target_skeleton], \"ro\")\n",
    "pt.plot(target_proxies[0], target_proxies[1], \"bo\")\n",
    "\n",
    "pt.xlim([-1, 5])\n",
    "pt.ylim([-1, 5])\n",
    "\n",
    "pt.gca().set_aspect(\"equal\")"
   ]
  },
  {
   "cell_type": "markdown",
   "metadata": {},
   "source": [
    "What does this mean?\n",
    "\n",
    "* We have now got a moral equivalent to a local expansion: The point values at the target skeleton points.\n",
    "* Is it a coincidence that the skeleton points sit at the boundary of the target region?\n",
    "* How many target proxies should we choose?\n",
    "* Can cheaply recompute potential at any target from those few points.\n",
    "* Have thus reduce LA-based evaluation cost to same as expansion-based cost.\n",
    "\n",
    "Can we come up with an equivalent of a multipole expansion?"
   ]
  },
  {
   "cell_type": "markdown",
   "metadata": {},
   "source": [
    "----------------\n",
    "\n",
    "Check that this works for 'our' sources:"
   ]
  },
  {
   "cell_type": "code",
   "execution_count": 16,
   "metadata": {},
   "outputs": [
    {
     "data": {
      "text/plain": [
       "1.8776453951593488e-09"
      ]
     },
     "execution_count": 16,
     "metadata": {},
     "output_type": "execute_result"
    }
   ],
   "source": [
    "imat_error = (\n",
    "    P.T.dot(interaction_mat(targets[:, target_skeleton], sources))\n",
    "    -\n",
    "    interaction_mat(targets, sources))\n",
    "\n",
    "la.norm(imat_error, 2)"
   ]
  },
  {
   "cell_type": "markdown",
   "metadata": {},
   "source": [
    "## Source Skeletonization"
   ]
  },
  {
   "cell_type": "code",
   "execution_count": 17,
   "metadata": {},
   "outputs": [],
   "source": [
    "nproxies = 25\n",
    "\n",
    "angles = np.linspace(0, 2*np.pi, nproxies)\n",
    "source_proxies = 0.5 + 1.5 * np.array([np.cos(angles), np.sin(angles)])"
   ]
  },
  {
   "cell_type": "code",
   "execution_count": 18,
   "metadata": {},
   "outputs": [
    {
     "data": {
      "image/png": "[encoded data removed]",
      "text/plain": [
       "<Figure size 432x288 with 1 Axes>"
      ]
     },
     "metadata": {
      "needs_background": "light"
     },
     "output_type": "display_data"
    }
   ],
   "source": [
    "pt.plot(sources[0], sources[1], \"go\")\n",
    "pt.plot(targets[0], targets[1], \"ro\")\n",
    "pt.plot(source_proxies[0], source_proxies[1], \"bo\")\n",
    "\n",
    "pt.xlim([-1, 5])\n",
    "pt.ylim([-1, 5])\n",
    "\n",
    "pt.gca().set_aspect(\"equal\")"
   ]
  },
  {
   "cell_type": "markdown",
   "metadata": {},
   "source": [
    "Construct the interaction matrix *from* the sources *to* the source proxies as `source_proxy_mat`:\n",
    "\n",
    "**A note on terminology:** The `source_proxies` are *near* the sources but *stand in* for far-away targets."
   ]
  },
  {
   "cell_type": "code",
   "execution_count": 19,
   "metadata": {},
   "outputs": [],
   "source": [
    "#clear\n",
    "source_proxy_mat = interaction_mat(source_proxies, sources)"
   ]
  },
  {
   "cell_type": "code",
   "execution_count": 20,
   "metadata": {},
   "outputs": [
    {
     "data": {
      "text/plain": [
       "(25, 200)"
      ]
     },
     "execution_count": 20,
     "metadata": {},
     "output_type": "execute_result"
    }
   ],
   "source": [
    "source_proxy_mat.shape"
   ]
  },
  {
   "cell_type": "markdown",
   "metadata": {},
   "source": [
    "Now compute an ID (row or column?):"
   ]
  },
  {
   "cell_type": "code",
   "execution_count": 21,
   "metadata": {},
   "outputs": [],
   "source": [
    "#clear\n",
    "idx, proj = sli.interp_decomp(source_proxy_mat, nproxies)"
   ]
  },
  {
   "cell_type": "code",
   "execution_count": 22,
   "metadata": {},
   "outputs": [],
   "source": [
    "#clear\n",
    "source_skeleton = idx[:nproxies]"
   ]
  },
  {
   "cell_type": "code",
   "execution_count": 23,
   "metadata": {},
   "outputs": [
    {
     "data": {
      "text/plain": [
       "5.2523961564651685e-15"
      ]
     },
     "execution_count": 23,
     "metadata": {},
     "output_type": "execute_result"
    }
   ],
   "source": [
    "P = np.hstack([np.eye(nproxies), proj])[:,np.argsort(idx)]\n",
    "tsm_approx = source_proxy_mat[:, source_skeleton].dot(P)\n",
    "\n",
    "la.norm(tsm_approx - source_proxy_mat, 2)"
   ]
  },
  {
   "cell_type": "markdown",
   "metadata": {},
   "source": [
    "Plot the chosen skeleton as well as the proxies:"
   ]
  },
  {
   "cell_type": "code",
   "execution_count": 24,
   "metadata": {},
   "outputs": [
    {
     "data": {
      "image/png": "[encoded data removed]",
      "text/plain": [
       "<Figure size 432x288 with 1 Axes>"
      ]
     },
     "metadata": {
      "needs_background": "light"
     },
     "output_type": "display_data"
    }
   ],
   "source": [
    "pt.plot(sources[0], sources[1], \"go\", alpha=0.05)\n",
    "pt.plot(targets[0], targets[1], \"ro\")\n",
    "pt.plot(sources[0, source_skeleton], sources[1, source_skeleton], \"go\")\n",
    "pt.plot(source_proxies[0], source_proxies[1], \"bo\")\n",
    "\n",
    "pt.xlim([-1, 5])\n",
    "pt.ylim([-1, 5])\n",
    "\n",
    "pt.gca().set_aspect(\"equal\")"
   ]
  },
  {
   "cell_type": "markdown",
   "metadata": {},
   "source": [
    "Check that it works for 'our' targets:"
   ]
  },
  {
   "cell_type": "code",
   "execution_count": 25,
   "metadata": {},
   "outputs": [
    {
     "data": {
      "text/plain": [
       "5.966880531704515e-09"
      ]
     },
     "execution_count": 25,
     "metadata": {},
     "output_type": "execute_result"
    }
   ],
   "source": [
    "imat_error = (\n",
    "    interaction_mat(targets, sources[:, source_skeleton]) @ P\n",
    "    -\n",
    "    interaction_mat(targets, sources))\n",
    "\n",
    "la.norm(imat_error, 2)"
   ]
  },
  {
   "cell_type": "markdown",
   "metadata": {},
   "source": [
    "* Sensibly, this is just the transpose of the target skeletonization process.\n",
    "    * For a given point cluster, the same skeleton can serve for target and source skeletonization!\n",
    "* Computationally, starting from your original charges $x$, you accumulate 'new' charges $Px$ at the skeleton points and then *only* compute the interaction from the source skeleton to the targets."
   ]
  },
  {
   "cell_type": "markdown",
   "metadata": {},
   "source": [
    "## Hierarchical Skeletonization"
   ]
  },
  {
   "cell_type": "code",
   "execution_count": 18,
   "metadata": {},
   "outputs": [
    {
     "data": {
      "text/plain": [
       "[<matplotlib.lines.Line2D at 0x7fb821315fd0>]"
      ]
     },
     "execution_count": 18,
     "metadata": {},
     "output_type": "execute_result"
    },
    {
     "data": {
      "image/png": "[encoded data removed]",
      "text/plain": [
       "<Figure size 640x480 with 1 Axes>"
      ]
     },
     "metadata": {},
     "output_type": "display_data"
    }
   ],
   "source": [
    "gathered_skeletons = np.concatenate(\n",
    "    [targets[:, target_skeleton],\n",
    "     targets[:, target_skeleton] + np.array([0, 1]).reshape(-1, 1),\n",
    "     targets[:, target_skeleton] + np.array([1, 0]).reshape(-1, 1),\n",
    "     targets[:, target_skeleton] + np.array([1, 1]).reshape(-1, 1),\n",
    "    ], axis=1)\n",
    "\n",
    "pt.plot(gathered_skeletons[0], gathered_skeletons[1], \"ro\", alpha=0.05)\n",
    "\n",
    "target_proxies = 4 + 2 * np.array([np.cos(angles), np.sin(angles)])\n",
    "pt.plot(target_proxies[0], target_proxies[1], \"bo\")\n",
    "\n",
    "parent_proxy_mat = interaction_mat(gathered_skeletons, target_proxies)\n",
    "\n",
    "idx, proj = sli.interp_decomp(parent_proxy_mat.T, nproxies)\n",
    "parent_skeleton = idx[:nproxies]\n",
    "\n",
    "pt.plot(gathered_skeletons[0, parent_skeleton], gathered_skeletons[1, parent_skeleton], \"ro\")"
   ]
  },
  {
   "cell_type": "code",
   "execution_count": null,
   "metadata": {},
   "outputs": [],
   "source": []
  }
 ],
 "metadata": {
  "kernelspec": {
   "display_name": "Python 3",
   "language": "python",
   "name": "python3"
  },
  "language_info": {
   "codemirror_mode": {
    "name": "ipython",
    "version": 3
   },
   "file_extension": ".py",
   "mimetype": "text/x-python",
   "name": "python",
   "nbconvert_exporter": "python",
   "pygments_lexer": "ipython3",
   "version": "3.7.4+"
  }
 },
 "nbformat": 4,
 "nbformat_minor": 2
}
