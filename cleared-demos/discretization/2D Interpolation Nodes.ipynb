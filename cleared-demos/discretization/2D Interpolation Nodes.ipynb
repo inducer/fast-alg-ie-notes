{
  "cells": [
    {
      "cell_type": "markdown",
      "metadata": {},
      "source": [
        "# Interpolation nodes in 2D"
      ]
    },
    {
      "cell_type": "code",
      "execution_count": 1,
      "metadata": {},
      "outputs": [],
      "source": [
        "import matplotlib.pyplot as pt\n",
        "import numpy as np\n",
        "import modepy as mp\n",
        "\n",
        "nodes = mp.warp_and_blend_nodes(2, 10)\n",
        "pt.plot(nodes[0], nodes[1], \"x\")\n",
        "\n",
        "tri = np.array([(-1, -1), (1, -1), (-1, 1), (-1, -1)]).T\n",
        "pt.plot(nodes[0], nodes[1], \"x\")\n",
        "pt.plot(tri[0], tri[1], \"-b\")\n",
        "pt.gca().set_aspect(\"equal\")"
      ]
    },
    {
      "cell_type": "code",
      "execution_count": null,
      "metadata": {},
      "outputs": [],
      "source": []
    }
  ],
  "metadata": {
    "kernelspec": {
      "display_name": "Python 3",
      "language": "python",
      "name": "python3"
    },
    "language_info": {
      "codemirror_mode": {
        "name": "ipython",
        "version": 3
      },
      "file_extension": ".py",
      "mimetype": "text/x-python",
      "name": "python",
      "nbconvert_exporter": "python",
      "pygments_lexer": "ipython3",
      "version": "3.7.4+"
    }
  },
  "nbformat": 4,
  "nbformat_minor": 2
}