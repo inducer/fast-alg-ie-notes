{
  "cells": [
    {
      "cell_type": "markdown",
      "metadata": {},
      "source": [
        "# Visualizing the 2D PKDO Basis"
      ]
    },
    {
      "cell_type": "code",
      "execution_count": 1,
      "metadata": {
        "collapsed": false
      },
      "outputs": [],
      "source": []
    },
    {
      "cell_type": "code",
      "execution_count": 2,
      "metadata": {
        "collapsed": false
      },
      "outputs": [],
      "source": [
        "import numpy as np\n",
        "from pytools import generate_nonnegative_integer_tuples_summing_to_at_most \\\n",
        "        as gnitstam\n",
        "import matplotlib.pyplot as pt\n",
        "from matplotlib import cm"
      ]
    },
    {
      "cell_type": "code",
      "execution_count": 3,
      "metadata": {
        "collapsed": false
      },
      "outputs": [],
      "source": [
        "\n",
        "# prepare plot and eval nodes on triangle\n",
        "dims = 2\n",
        "node_n = 15\n",
        "node_tuples = list(gnitstam(node_n, dims))\n",
        "plot_nodes = np.array(node_tuples, dtype=np.float64) / node_n\n",
        "eval_nodes = 2*(plot_nodes - 0.5).T\n",
        "\n",
        "# get triangle submesh\n",
        "from modepy.tools import submesh\n",
        "tri_subtriangles = np.array(submesh(node_tuples))\n",
        "\n",
        "# evaluate each basis function, build global tri mesh\n",
        "node_count = 0\n",
        "all_nodes = []\n",
        "all_triangles = []\n",
        "all_values = []\n",
        "\n",
        "from modepy.modes import simplex_onb\n",
        "\n",
        "p = 3\n",
        "stretch_factor = 1.5\n",
        "\n",
        "for (i, j), basis_func in zip(\n",
        "        gnitstam(p, dims),\n",
        "        simplex_onb(dims, p),\n",
        "        ):\n",
        "\n",
        "    all_nodes.append(plot_nodes + [stretch_factor*i, stretch_factor*j])\n",
        "    all_triangles.append(tri_subtriangles + node_count)\n",
        "    all_values.append(basis_func(eval_nodes))\n",
        "    node_count += len(plot_nodes)\n",
        "\n",
        "all_nodes = np.vstack(all_nodes)\n",
        "all_triangles = np.vstack(all_triangles)\n",
        "all_values = np.hstack(all_values)\n",
        "\n",
        "\n",
        "from mpl_toolkits.mplot3d import Axes3D\n",
        "fig = pt.figure(figsize=(15,15))\n",
        "ax = fig.add_subplot(111, projection='3d')\n",
        "\n",
        "ax.plot_trisurf(\n",
        "        all_nodes[:, 0],\n",
        "        all_nodes[:, 1],        \n",
        "        all_triangles,\n",
        "        all_values, cmap=cm.jet, lw=0.1)\n",
        "\n",
        "pt.show()"
      ]
    },
    {
      "cell_type": "code",
      "execution_count": null,
      "metadata": {
        "collapsed": false
      },
      "outputs": [],
      "source": []
    }
  ],
  "metadata": {},
  "nbformat": 4,
  "nbformat_minor": 2
}