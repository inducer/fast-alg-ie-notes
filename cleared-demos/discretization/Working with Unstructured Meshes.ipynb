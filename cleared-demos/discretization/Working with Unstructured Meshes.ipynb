{
  "cells": [
    {
      "cell_type": "markdown",
      "metadata": {},
      "source": [
        "# Working with Unstructured Meshes\n",
        "\n",
        "This demo uses [meshmode](https://documen.tician.de/meshmode/)."
      ]
    },
    {
      "cell_type": "code",
      "execution_count": 46,
      "metadata": {},
      "outputs": [],
      "source": [
        "import numpy as np\n",
        "import numpy.linalg as la\n",
        "import pyopencl as cl\n",
        "import pyopencl.clmath\n",
        "import meshmode.mesh.generation as mgen\n",
        "from meshmode.discretization import Discretization\n",
        "from meshmode.discretization.poly_element import PolynomialWarpAndBlendGroupFactory\n",
        "\n",
        "import matplotlib.pyplot as plt"
      ]
    },
    {
      "cell_type": "code",
      "execution_count": 49,
      "metadata": {},
      "outputs": [],
      "source": [
        "cl_ctx = cl.create_some_context(interactive=True)\n",
        "queue = cl.CommandQueue(cl_ctx)"
      ]
    },
    {
      "cell_type": "code",
      "execution_count": 168,
      "metadata": {},
      "outputs": [],
      "source": [
        "order = 10"
      ]
    },
    {
      "cell_type": "code",
      "execution_count": 169,
      "metadata": {},
      "outputs": [],
      "source": [
        "mesh = mgen.generate_icosphere(r=1, order=order, uniform_refinement_rounds=1)\n",
        "\n",
        "discr = Discretization(cl_ctx, mesh,\n",
        "        PolynomialWarpAndBlendGroupFactory(order))"
      ]
    },
    {
      "cell_type": "code",
      "execution_count": 170,
      "metadata": {},
      "outputs": [],
      "source": [
        "from meshmode.discretization.visualization import make_visualizer\n",
        "vis = make_visualizer(queue, discr, order)\n",
        "\n",
        "x, y, z = discr.nodes()\n",
        "val = cl.clmath.sin(3*x.with_queue(queue))\n",
        "\n",
        "plt.figure(figsize=(10, 7))\n",
        "vis.show_scalar_in_matplotlib_3d(val, do_show=False)"
      ]
    },
    {
      "cell_type": "code",
      "execution_count": 171,
      "metadata": {},
      "outputs": [],
      "source": [
        "grp = discr.groups[0]\n",
        "val_view = grp.view(val.get(queue=queue))\n",
        "nodes = grp.view(discr.nodes().get(queue=queue))\n",
        "\n",
        "print(val_view.shape)\n",
        "print(nodes.shape)"
      ]
    },
    {
      "cell_type": "code",
      "execution_count": 172,
      "metadata": {},
      "outputs": [],
      "source": [
        "plt.plot(grp.unit_nodes[0], grp.unit_nodes[1], \"o\")\n",
        "plt.gca().set_aspect(\"equal\")"
      ]
    },
    {
      "cell_type": "code",
      "execution_count": 173,
      "metadata": {},
      "outputs": [],
      "source": [
        "from modepy.matrices import vandermonde\n",
        "\n",
        "vdm = vandermonde(grp.basis(), grp.unit_nodes)\n",
        "dr_vdm, ds_vdm = vandermonde(grp.grad_basis(), grp.unit_nodes)\n",
        "\n",
        "# Use la.solve in real code!\n",
        "dr = dr_vdm @ la.inv(vdm)\n",
        "ds = ds_vdm @ la.inv(vdm)"
      ]
    },
    {
      "cell_type": "code",
      "execution_count": 174,
      "metadata": {},
      "outputs": [],
      "source": [
        "dr_nodes = np.einsum(\"ij,dkj->dki\", dr, nodes)\n",
        "ds_nodes = np.einsum(\"ij,dkj->dki\", ds, nodes)\n",
        "\n",
        "normals = np.cross(dr_nodes, ds_nodes, axisa=0, axisb=0, axisc=0)\n",
        "\n",
        "area_elements = la.norm(normals, axis=0)\n",
        "\n",
        "area = np.einsum(\"i, ki->\", grp.weights, area_elements)\n",
        "\n",
        "true_area = 4*np.pi\n",
        "abs(area - true_area)/true_area"
      ]
    },
    {
      "cell_type": "code",
      "execution_count": null,
      "metadata": {},
      "outputs": [],
      "source": []
    }
  ],
  "metadata": {
    "kernelspec": {
      "display_name": "Python 3",
      "language": "python",
      "name": "python3"
    },
    "language_info": {
      "codemirror_mode": {
        "name": "ipython",
        "version": 3
      },
      "file_extension": ".py",
      "mimetype": "text/x-python",
      "name": "python",
      "nbconvert_exporter": "python",
      "pygments_lexer": "ipython3",
      "version": "3.7.5"
    }
  },
  "nbformat": 4,
  "nbformat_minor": 4
}