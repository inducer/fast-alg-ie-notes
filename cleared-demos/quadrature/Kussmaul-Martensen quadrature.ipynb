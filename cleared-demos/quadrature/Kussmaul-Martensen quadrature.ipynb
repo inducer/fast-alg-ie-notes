{
  "cells": [
    {
      "cell_type": "markdown",
      "metadata": {},
      "source": [
        "# Kussmaul-Martensen quadrature (also often called \"Kress quadrature\")"
      ]
    },
    {
      "cell_type": "code",
      "execution_count": 1,
      "metadata": {
        "collapsed": false,
        "jupyter": {
          "outputs_hidden": false
        }
      },
      "outputs": [],
      "source": [
        "import numpy as np\n",
        "import matplotlib.pyplot as pt"
      ]
    },
    {
      "cell_type": "code",
      "execution_count": 2,
      "metadata": {
        "collapsed": false,
        "jupyter": {
          "outputs_hidden": false
        }
      },
      "outputs": [],
      "source": [
        "t = np.linspace(0, 2*np.pi, 300,endpoint=False)"
      ]
    },
    {
      "cell_type": "markdown",
      "metadata": {},
      "source": [
        "## Setup"
      ]
    },
    {
      "cell_type": "markdown",
      "metadata": {},
      "source": [
        "Let's make a curve and pick a target point:"
      ]
    },
    {
      "cell_type": "code",
      "execution_count": 3,
      "metadata": {
        "collapsed": false,
        "jupyter": {
          "outputs_hidden": false
        }
      },
      "outputs": [],
      "source": [
        "uncircleness = 1\n",
        "\n",
        "path = np.array([\n",
        "    np.cos(t) + uncircleness*0.2*np.sin(3*t),\n",
        "    np.sin(t) + uncircleness*0.1*np.sin(3*t)\n",
        "    ])\n",
        "\n",
        "tgt_index = len(t)//2\n",
        "tgt_t = t[tgt_index]\n",
        "tgt = path[:, tgt_index]\n",
        "\n",
        "pt.gca().set_aspect(\"equal\")\n",
        "pt.plot(path[0], path[1])\n",
        "pt.plot(tgt[0], tgt[1], \"o\")"
      ]
    },
    {
      "cell_type": "markdown",
      "metadata": {},
      "source": [
        "Get some derivatives of the curve:"
      ]
    },
    {
      "cell_type": "code",
      "execution_count": 4,
      "metadata": {
        "collapsed": false,
        "jupyter": {
          "outputs_hidden": false
        }
      },
      "outputs": [],
      "source": [
        "import scipy.fftpack as fft\n",
        "\n",
        "dpath_dt = np.array([\n",
        "    fft.diff(path[0]),\n",
        "    fft.diff(path[1]),\n",
        "    ])\n",
        "\n",
        "dpdt_squared = dpath_dt[0]**2 + dpath_dt[1]**2\n",
        "pt.plot(dpdt_squared)"
      ]
    },
    {
      "cell_type": "markdown",
      "metadata": {},
      "source": [
        "Get normals to the curve:"
      ]
    },
    {
      "cell_type": "code",
      "execution_count": 5,
      "metadata": {
        "collapsed": false,
        "jupyter": {
          "outputs_hidden": false
        }
      },
      "outputs": [],
      "source": [
        "normals = np.array([\n",
        "    dpath_dt[1],\n",
        "    -dpath_dt[0]\n",
        "    ]) / np.sqrt(dpdt_squared)\n",
        "\n",
        "pt.plot(path[0], path[1])\n",
        "pt.quiver(path[0], path[1], normals[0], normals[1])"
      ]
    },
    {
      "cell_type": "code",
      "execution_count": 6,
      "metadata": {
        "collapsed": false,
        "jupyter": {
          "outputs_hidden": false
        }
      },
      "outputs": [],
      "source": [
        "dist_vec = tgt[:, np.newaxis] - path\n",
        "\n",
        "dist = np.sqrt(np.sum(dist_vec**2, axis=0))\n",
        "\n",
        "pt.plot(dist)"
      ]
    },
    {
      "cell_type": "markdown",
      "metadata": {},
      "source": [
        "## Single-layer potential"
      ]
    },
    {
      "cell_type": "markdown",
      "metadata": {},
      "source": [
        "Let's look at the integrand for the SLP:"
      ]
    },
    {
      "cell_type": "code",
      "execution_count": 7,
      "metadata": {
        "collapsed": false,
        "jupyter": {
          "outputs_hidden": false
        }
      },
      "outputs": [],
      "source": [
        "slp_integrand = np.log(dist)\n",
        "pt.plot(slp_integrand)"
      ]
    },
    {
      "cell_type": "markdown",
      "metadata": {},
      "source": [
        "Even if this is integrable--Gaussian quadrature will do a terrible job. **Why?**"
      ]
    },
    {
      "cell_type": "code",
      "execution_count": 8,
      "metadata": {
        "collapsed": false,
        "jupyter": {
          "outputs_hidden": false
        }
      },
      "outputs": [],
      "source": [
        "near_sing_slice = slice(tgt_index-20, tgt_index+20)\n",
        "\n",
        "log_sin_squared = 0.5*np.log(4*np.sin((tgt_t - t)/2)**2)\n",
        "pt.plot(log_sin_squared[near_sing_slice])\n",
        "pt.plot(slp_integrand[near_sing_slice])"
      ]
    },
    {
      "cell_type": "code",
      "execution_count": 9,
      "metadata": {
        "collapsed": false,
        "jupyter": {
          "outputs_hidden": false
        }
      },
      "outputs": [],
      "source": [
        "slp_subtracted = slp_integrand - log_sin_squared\n",
        "pt.plot(slp_subtracted[near_sing_slice])"
      ]
    },
    {
      "cell_type": "code",
      "execution_count": 10,
      "metadata": {
        "collapsed": false,
        "jupyter": {
          "outputs_hidden": false
        }
      },
      "outputs": [],
      "source": []
    },
    {
      "cell_type": "markdown",
      "metadata": {},
      "source": [
        "**How does this help?**"
      ]
    },
    {
      "cell_type": "markdown",
      "metadata": {},
      "source": [
        "### Double-layer potential"
      ]
    },
    {
      "cell_type": "code",
      "execution_count": 11,
      "metadata": {
        "collapsed": false,
        "jupyter": {
          "outputs_hidden": false
        }
      },
      "outputs": [],
      "source": [
        "grad_slp = dist_vec/dist**2\n",
        "\n",
        "dlp_integrand = np.sum(grad_slp * normals, axis=0)\n",
        "pt.plot(dlp_integrand)"
      ]
    },
    {
      "cell_type": "markdown",
      "metadata": {},
      "source": [
        "### S'"
      ]
    },
    {
      "cell_type": "code",
      "execution_count": 12,
      "metadata": {
        "collapsed": false,
        "jupyter": {
          "outputs_hidden": false
        }
      },
      "outputs": [],
      "source": [
        "sp_integrand = np.sum(grad_slp * normals[:, tgt_index, np.newaxis], axis=0)\n",
        "pt.plot(sp_integrand)"
      ]
    },
    {
      "cell_type": "markdown",
      "metadata": {},
      "source": [
        "## Questions\n",
        "\n",
        "* How would you apply this for **Helmholtz**?\n",
        "* Name aspects that make this rule slightly **impractical**\n",
        "* How would this apply to D'?"
      ]
    }
  ],
  "metadata": {
    "kernelspec": {
      "display_name": "Python 3 (ipykernel)",
      "language": "python",
      "name": "python3"
    },
    "language_info": {
      "codemirror_mode": {
        "name": "ipython",
        "version": 3
      },
      "file_extension": ".py",
      "mimetype": "text/x-python",
      "name": "python",
      "nbconvert_exporter": "python",
      "pygments_lexer": "ipython3",
      "version": "3.10.4"
    }
  },
  "nbformat": 4,
  "nbformat_minor": 4
}