{
  "cells": [
    {
      "cell_type": "markdown",
      "metadata": {},
      "source": [
        "# Multipole and Local Expansions"
      ]
    },
    {
      "cell_type": "code",
      "execution_count": 1,
      "metadata": {},
      "outputs": [],
      "source": [
        "import numpy as np\n",
        "import numpy.linalg as la\n",
        "import matplotlib.pyplot as plt"
      ]
    },
    {
      "cell_type": "markdown",
      "metadata": {},
      "source": [
        "Let's consider a potential. This one could look slightly familiar from a homework assignment."
      ]
    },
    {
      "cell_type": "code",
      "execution_count": 2,
      "metadata": {},
      "outputs": [],
      "source": [
        "nsources = 15\n",
        "nxtgts = 400\n",
        "nytgts = 400\n",
        "\n",
        "angles = np.linspace(0, 2*np.pi, nsources, endpoint=False)\n",
        "r = 1 + 0.3 * np.sin(3*angles)\n",
        "sources = np.array([\n",
        "    r*np.cos(angles),\n",
        "    r*np.sin(angles),\n",
        "    ])\n",
        "\n",
        "np.random.seed(15)\n",
        "charges = np.random.randn(nsources)\n",
        "\n",
        "left, right, bottom, top = extent = (-2, 4, -4, 2)\n",
        "targets = np.mgrid[left:right:nxtgts*1j, bottom:top:nytgts*1j]\n"
      ]
    },
    {
      "cell_type": "code",
      "execution_count": 3,
      "metadata": {},
      "outputs": [],
      "source": [
        "plt.plot(sources[0], sources[1], \"x\")\n",
        "\n",
        "dist_vecs = sources.reshape(2, -1, 1, 1) - targets.reshape(2, 1, targets.shape[-1], -1)\n",
        "dists = np.sqrt(np.sum(dist_vecs**2, axis=0))\n",
        "\n",
        "potentials = np.sum(charges.reshape(-1, 1, 1) * np.log(dists), axis=0)\n",
        "plt.imshow(potentials.T[::-1], extent=extent)"
      ]
    },
    {
      "cell_type": "markdown",
      "metadata": {},
      "source": [
        "Now let's create a stash of derivatives, all about a center of 0, to make things easier:"
      ]
    },
    {
      "cell_type": "code",
      "execution_count": 4,
      "metadata": {},
      "outputs": [],
      "source": [
        "def f(arg):\n",
        "    return np.log(np.sqrt(np.sum(arg**2, axis=0)))\n",
        "\n",
        "def fdx(arg):\n",
        "    x, y = arg\n",
        "    r2 = np.sum(arg**2, axis=0)\n",
        "    return x/r2\n",
        "\n",
        "def fdy(arg):\n",
        "    x, y = arg\n",
        "    r2 = np.sum(arg**2, axis=0)\n",
        "    return y/r2\n",
        "\n",
        "def fdxx(arg):\n",
        "    x, y = arg\n",
        "    r2 = np.sum(arg**2, axis=0)\n",
        "    return 1/r2 - 2*x**2/r2**2\n",
        "\n",
        "def fdyy(arg):\n",
        "    x, y = arg\n",
        "    r2 = np.sum(arg**2, axis=0)\n",
        "    return 1/r2 - 2*y**2/r2**2\n",
        "\n",
        "def fdxy(arg):\n",
        "    x, y = arg\n",
        "    r2 = np.sum(arg**2, axis=0)\n",
        "    return - 2*x*y/r2**2"
      ]
    },
    {
      "cell_type": "markdown",
      "metadata": {},
      "source": [
        "## Local expansions"
      ]
    },
    {
      "cell_type": "code",
      "execution_count": 5,
      "metadata": {},
      "outputs": [],
      "source": [
        "center = np.array([1.5, -1])\n",
        "#center = np.array([2, -2])\n",
        "#center = np.array([3, -3])\n",
        "#center = np.array([0, 0])\n"
      ]
    },
    {
      "cell_type": "markdown",
      "metadata": {},
      "source": [
        "Local expansion:\n",
        "$$\\psi (\\mathbf{x} - \\mathbf{y}) \\approx \\sum _{| p | \\leqslant k\n",
        "     } \\underbrace{\\frac{D^p_{\\mathbf{x}} \\psi\n",
        "   (\\mathbf{ x - \\mathbf{y}) |_{\\mathbf{x = \\mathbf{c}}}\n",
        "    }  }{p!}}_{\\text{depends on src/ctr}}\n",
        "   \\underbrace{(\\mathbf{x} - \\mathbf{c})^p}_{\\text{dep. on ctr/tgt}} $$\n",
        "\n",
        "$\\mathbf{x}$: targets, $\\mathbf{y}$: sources."
      ]
    },
    {
      "cell_type": "code",
      "execution_count": 20,
      "metadata": {},
      "outputs": [],
      "source": []
    },
    {
      "cell_type": "code",
      "execution_count": 7,
      "metadata": {},
      "outputs": [],
      "source": [
        "err = expn - potentials\n",
        "plt.plot(center[0], center[1], \"o\")\n",
        "plt.plot(sources[0], sources[1], \"x\")\n",
        "plt.imshow(np.log10(1e-2 + np.abs(err.T[::-1])), extent=extent)\n",
        "plt.colorbar()\n",
        "\n",
        "\n",
        "# Test accuracy at a point\n",
        "test_y_idx = np.argmin(np.abs(center[1] - targets[1, 0, :]))\n",
        "test_idx = (7*nxtgts//8, test_y_idx)\n",
        "plt.plot(targets[0][test_idx], targets[1][test_idx], \"ro\")\n",
        "print(\"Relative error at (red) test point:\", abs(err[test_idx])/abs(potentials[test_idx]))"
      ]
    },
    {
      "cell_type": "markdown",
      "metadata": {},
      "source": [
        "* Move the center around, see how the errors change\n",
        "* Reduce to linears, see how the errors change"
      ]
    },
    {
      "cell_type": "code",
      "execution_count": 8,
      "metadata": {},
      "outputs": [],
      "source": [
        "plt.grid()\n",
        "plt.xlabel(\"Distance from center\")\n",
        "plt.ylabel(\"Error\")\n",
        "plt.loglog(targets[0, :, test_y_idx]-center[0], np.abs(err[:, test_y_idx]))"
      ]
    },
    {
      "cell_type": "markdown",
      "metadata": {},
      "source": [
        "What is the slope of the error graph? What should it be?\n",
        "\n",
        "(Disregard the close-to-center region: Center and Target points are not at *exactly* the same vertical position.)"
      ]
    },
    {
      "cell_type": "markdown",
      "metadata": {},
      "source": [
        "## Multipole expansions"
      ]
    },
    {
      "cell_type": "code",
      "execution_count": 9,
      "metadata": {},
      "outputs": [],
      "source": [
        "center = np.array([0, 0])\n",
        "# center = np.array([1, 0])"
      ]
    },
    {
      "cell_type": "markdown",
      "metadata": {},
      "source": [
        "Now sum a multipole expansion about the center at the targets. Make sure to watch for negative signs from the chain rule.\n",
        "\n",
        "Multipole expansion:\n",
        "$$\\psi (\\mathbf{x} - \\mathbf{y}) \\approx \\sum _{| p | \\leqslant k\n",
        "     } \\underbrace{\\frac{D^p_{\\mathbf{y}} \\psi\n",
        "   (\\mathbf{ x - \\mathbf{y}) |_{\\mathbf{y = \\mathbf{c}}}\n",
        "    }  }{p!}}_{\\text{depends on ctr/tgt}}\n",
        "   \\underbrace{(\\mathbf{y} - \\mathbf{c})^p}_{\\text{dep. on src/ctr}} . $$\n",
        "\n",
        "$\\mathbf{x}$: targets, $\\mathbf{y}$: sources."
      ]
    },
    {
      "cell_type": "code",
      "execution_count": 22,
      "metadata": {},
      "outputs": [],
      "source": []
    },
    {
      "cell_type": "code",
      "execution_count": 18,
      "metadata": {},
      "outputs": [],
      "source": [
        "err = expn - potentials\n",
        "imgdata = err\n",
        "plt.plot(center[0], center[1], \"o\")\n",
        "plt.plot(sources[0], sources[1], \"x\")\n",
        "plt.imshow(np.log10(1e-2 + np.abs(imgdata.T[::-1])), extent=extent)\n",
        "plt.colorbar()\n",
        "\n",
        "# Test accuracy at a point\n",
        "test_y_idx = 5*nytgts//8\n",
        "test_idx = (7*nxtgts//8, test_y_idx)\n",
        "plt.plot(targets[0][test_idx], targets[1][test_idx], \"ro\")\n",
        "print(\"Relative error at (red) test point:\", abs(err[test_idx])/abs(potentials[test_idx]))"
      ]
    },
    {
      "cell_type": "markdown",
      "metadata": {},
      "source": [
        "* Move the center around, observe convergence behavior\n",
        "* Reduce to linears, observe convergence behavior"
      ]
    },
    {
      "cell_type": "code",
      "execution_count": 19,
      "metadata": {},
      "outputs": [],
      "source": [
        "plt.grid()\n",
        "plt.xlabel(\"Distance from center\")\n",
        "plt.ylabel(\"Error\")\n",
        "plt.loglog(targets[0, :, test_y_idx]-center[0], np.abs(err[:, test_y_idx]))"
      ]
    },
    {
      "cell_type": "markdown",
      "metadata": {},
      "source": [
        "What is the slope in the far region? What should it be?"
      ]
    },
    {
      "cell_type": "markdown",
      "metadata": {},
      "source": [
        "Look at individual basis functions:"
      ]
    },
    {
      "cell_type": "code",
      "execution_count": 14,
      "metadata": {},
      "outputs": [],
      "source": [
        "plt.imshow(\n",
        "    fdx(targets).T[::-1],\n",
        "    extent=extent, vmin=-1, vmax=1)"
      ]
    },
    {
      "cell_type": "markdown",
      "metadata": {},
      "source": [
        "Why is this thing called a 'multipole' expansion?"
      ]
    }
  ],
  "metadata": {
    "kernelspec": {
      "display_name": "Python 3",
      "language": "python",
      "name": "python3"
    },
    "language_info": {
      "codemirror_mode": {
        "name": "ipython",
        "version": 3
      },
      "file_extension": ".py",
      "mimetype": "text/x-python",
      "name": "python",
      "nbconvert_exporter": "python",
      "pygments_lexer": "ipython3",
      "version": "3.7.4+"
    }
  },
  "nbformat": 4,
  "nbformat_minor": 2
}