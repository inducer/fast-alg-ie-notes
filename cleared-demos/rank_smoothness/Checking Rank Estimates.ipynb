{
  "cells": [
    {
      "cell_type": "markdown",
      "metadata": {},
      "source": [
        "# Checking Rank Estimates"
      ]
    },
    {
      "cell_type": "code",
      "execution_count": 1,
      "metadata": {
        "collapsed": false
      },
      "outputs": [],
      "source": [
        "import numpy as np\n",
        "import numpy.linalg as la\n",
        "import matplotlib.pyplot as pt"
      ]
    },
    {
      "cell_type": "markdown",
      "metadata": {},
      "source": [
        "Let's make two particle collections: `sources` and `targets`"
      ]
    },
    {
      "cell_type": "code",
      "execution_count": 2,
      "metadata": {
        "collapsed": false
      },
      "outputs": [],
      "source": [
        "sources = np.random.randn(2, 200)\n",
        "targets = np.random.randn(2, 200) + 10\n",
        "\n",
        "pt.plot(sources[0], sources[1], \"go\")\n",
        "pt.plot(targets[0], targets[1], \"ro\")"
      ]
    },
    {
      "cell_type": "markdown",
      "metadata": {},
      "source": [
        "What's our convergence ratio $\\rho$:\n",
        "$$\n",
        "\\rho=\\frac{d(c,\\text{furthest target})}{d(c,\\text{closest source})}?\n",
        "$$\n",
        "\n",
        "Well, what should $c$ be, really? (Technically, we can use any $c$, so we're free to choose whichever we think is best.)"
      ]
    },
    {
      "cell_type": "code",
      "execution_count": 3,
      "metadata": {
        "collapsed": false
      },
      "outputs": [],
      "source": []
    },
    {
      "cell_type": "code",
      "execution_count": 4,
      "metadata": {
        "collapsed": false
      },
      "outputs": [],
      "source": [
        "pt.plot(sources[0], sources[1], \"go\")\n",
        "pt.plot(targets[0], targets[1], \"ro\")\n",
        "pt.plot(c[0], c[1], \"bo\")"
      ]
    },
    {
      "cell_type": "markdown",
      "metadata": {},
      "source": [
        "## Assemble the interaction matrix"
      ]
    },
    {
      "cell_type": "code",
      "execution_count": 5,
      "metadata": {
        "collapsed": false
      },
      "outputs": [],
      "source": [
        "all_distvecs = sources.reshape(2, 1, -1) - targets.reshape(2, -1, 1)\n",
        "dists = np.sqrt(np.sum(all_distvecs**2, axis=0))\n",
        "interaction_mat = np.log(dists)"
      ]
    },
    {
      "cell_type": "markdown",
      "metadata": {},
      "source": [
        "## Estimate the rank depending on precision $\\varepsilon$"
      ]
    },
    {
      "cell_type": "markdown",
      "metadata": {},
      "source": [
        "First, obtain an idea of what $\\rho$ is:"
      ]
    },
    {
      "cell_type": "code",
      "execution_count": 6,
      "metadata": {
        "collapsed": false
      },
      "outputs": [],
      "source": []
    },
    {
      "cell_type": "markdown",
      "metadata": {},
      "source": [
        "Then plot the numerical rank depending on epsilon:"
      ]
    },
    {
      "cell_type": "code",
      "execution_count": 7,
      "metadata": {
        "collapsed": false
      },
      "outputs": [],
      "source": [
        "_, sigma, V = la.svd(interaction_mat)\n",
        "pt.semilogy(sigma)"
      ]
    },
    {
      "cell_type": "code",
      "execution_count": 9,
      "metadata": {
        "collapsed": false
      },
      "outputs": [],
      "source": [
        "eps_values = 10**(-np.linspace(1, 12))"
      ]
    },
    {
      "cell_type": "markdown",
      "metadata": {},
      "source": [
        "For the given precisions $\\varepsilon$, find the associated numerical rank:"
      ]
    },
    {
      "cell_type": "code",
      "execution_count": 10,
      "metadata": {
        "collapsed": false
      },
      "outputs": [],
      "source": []
    },
    {
      "cell_type": "markdown",
      "metadata": {},
      "source": [
        "Now compare with our estimate:"
      ]
    },
    {
      "cell_type": "code",
      "execution_count": 11,
      "metadata": {
        "collapsed": false
      },
      "outputs": [],
      "source": [
        "pt.semilogx(eps_values, ranks)\n",
        "pt.semilogx(eps_values, (np.log(eps_values)/np.log(rho)-1)**2)"
      ]
    },
    {
      "cell_type": "markdown",
      "metadata": {},
      "source": [
        "* We estimated that the rank would grow *quadratically*.\n",
        "* Comments on how good our estimate is?"
      ]
    },
    {
      "cell_type": "code",
      "execution_count": null,
      "metadata": {},
      "outputs": [],
      "source": []
    }
  ],
  "metadata": {
    "kernelspec": {
      "display_name": "Python 3",
      "language": "python",
      "name": "python3"
    },
    "language_info": {
      "codemirror_mode": {
        "name": "ipython",
        "version": 3
      },
      "file_extension": ".py",
      "mimetype": "text/x-python",
      "name": "python",
      "nbconvert_exporter": "python",
      "pygments_lexer": "ipython3",
      "version": "3.7.4+"
    }
  },
  "nbformat": 4,
  "nbformat_minor": 2
}