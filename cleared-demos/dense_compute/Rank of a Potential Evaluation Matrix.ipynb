{
  "cells": [
    {
      "cell_type": "markdown",
      "metadata": {},
      "source": [
        "# Rank of a Potential Evaluation Matrix"
      ]
    },
    {
      "cell_type": "code",
      "execution_count": 51,
      "metadata": {
        "collapsed": false
      },
      "outputs": [],
      "source": [
        "import numpy as np\n",
        "import matplotlib.pyplot as pt"
      ]
    },
    {
      "cell_type": "markdown",
      "metadata": {},
      "source": [
        "Let's make two particle collections: `sources` and `targets`"
      ]
    },
    {
      "cell_type": "code",
      "execution_count": 52,
      "metadata": {
        "collapsed": false
      },
      "outputs": [],
      "source": [
        "sources = np.random.randn(2, 200)\n",
        "targets = np.random.randn(2, 200)\n",
        "\n",
        "pt.plot(sources[0], sources[1], \"go\")\n",
        "pt.plot(targets[0], targets[1], \"ro\")"
      ]
    },
    {
      "cell_type": "markdown",
      "metadata": {},
      "source": [
        "Now let's assume each of these points has a charge, and evaluate the potential at each of the other points."
      ]
    },
    {
      "cell_type": "code",
      "execution_count": 53,
      "metadata": {
        "collapsed": false
      },
      "outputs": [],
      "source": [
        "all_distvecs = sources.reshape(2, 1, -1) - targets.reshape(2, -1, 1)\n",
        "dists = np.sqrt(np.sum(all_distvecs**2, axis=0))\n",
        "interaction_mat = 1/dists\n",
        "\n",
        "pt.imshow(dists)"
      ]
    },
    {
      "cell_type": "markdown",
      "metadata": {},
      "source": [
        "## Finding the Rank: Attempt 1"
      ]
    },
    {
      "cell_type": "markdown",
      "metadata": {},
      "source": [
        "How do we find the rank? Get the matrix to echelon form, look for zero rows.\n",
        "\n",
        "**Bonus Q:** Is this the same as LU?"
      ]
    },
    {
      "cell_type": "code",
      "execution_count": 54,
      "metadata": {
        "collapsed": false
      },
      "outputs": [],
      "source": [
        "from m_echelon import m_echelon\n",
        "M, U = m_echelon(interaction_mat)\n",
        "pt.imshow(np.log10(1e-15+np.abs(U)), cmap=\"gray\")\n",
        "pt.colorbar()"
      ]
    },
    {
      "cell_type": "markdown",
      "metadata": {},
      "source": [
        "## Finding the Rank: Attempt 2"
      ]
    },
    {
      "cell_type": "code",
      "execution_count": 55,
      "metadata": {
        "collapsed": false
      },
      "outputs": [],
      "source": [
        "U, sigma, V = np.linalg.svd(interaction_mat)\n",
        "\n",
        "pt.semilogy(sigma)"
      ]
    },
    {
      "cell_type": "code",
      "execution_count": 56,
      "metadata": {
        "collapsed": false
      },
      "outputs": [],
      "source": [
        "k = 60\n",
        "Uk = U[:, :k]\n",
        "Vk = V.T[:, :k].T\n",
        "\n",
        "Ak = (Uk * sigma[:k]).dot(Vk)\n",
        "\n",
        "np.linalg.norm(interaction_mat - Ak, 2)"
      ]
    },
    {
      "cell_type": "code",
      "execution_count": 56,
      "metadata": {
        "collapsed": false
      },
      "outputs": [],
      "source": []
    }
  ],
  "metadata": {},
  "nbformat": 4,
  "nbformat_minor": 2
}