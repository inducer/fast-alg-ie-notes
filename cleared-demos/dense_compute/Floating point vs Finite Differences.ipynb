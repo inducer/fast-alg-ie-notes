{
  "cells": [
    {
      "cell_type": "markdown",
      "metadata": {},
      "source": [
        "# Floating point vs Finite Differences"
      ]
    },
    {
      "cell_type": "code",
      "execution_count": 5,
      "metadata": {
        "collapsed": false
      },
      "outputs": [],
      "source": [
        "import numpy as np\n",
        "import numpy.linalg as la\n",
        "import matplotlib.pyplot as pt"
      ]
    },
    {
      "cell_type": "markdown",
      "metadata": {},
      "source": [
        "Define a function and its derivative:"
      ]
    },
    {
      "cell_type": "code",
      "execution_count": 17,
      "metadata": {
        "collapsed": false
      },
      "outputs": [],
      "source": [
        "c = 20*2*np.pi\n",
        "\n",
        "def f(x):\n",
        "    return np.sin(c*x)\n",
        "\n",
        "def df(x):\n",
        "    return c*np.cos(c*x)\n",
        "\n",
        "n = 2000\n",
        "x = np.linspace(0, 1, n, endpoint=False).astype(np.float32)\n",
        "\n",
        "pt.plot(x, f(x))"
      ]
    },
    {
      "cell_type": "markdown",
      "metadata": {},
      "source": [
        "Now compute the relative $l^\\infty$ norm of the error in the finite differences, for a bunch of mesh sizes:"
      ]
    },
    {
      "cell_type": "code",
      "execution_count": 16,
      "metadata": {
        "collapsed": false
      },
      "outputs": [],
      "source": [
        "h_values = []\n",
        "err_values = []\n",
        "\n",
        "for n_exp in range(5, 24):\n",
        "    n = 2**n_exp\n",
        "    h = (1/n)\n",
        "\n",
        "    x = np.linspace(0, 1, n, endpoint=False).astype(np.float32)\n",
        "\n",
        "    fx = f(x)\n",
        "    dfx = df(x)\n",
        "\n",
        "    dfx_num = (np.roll(fx, -1) - np.roll(fx, 1)) / (2*h)\n",
        "\n",
        "    err = np.max(np.abs((dfx - dfx_num))) / np.max(np.abs(fx))\n",
        "\n",
        "    print(h, err)\n",
        "\n",
        "    h_values.append(h)\n",
        "    err_values.append(err)\n",
        "\n",
        "pt.rc(\"font\", size=16)\n",
        "pt.title(r\"Single precision FD error on $\\sin(20\\cdot 2\\pi)$\")\n",
        "pt.xlabel(r\"$h$\")\n",
        "pt.ylabel(r\"Rel. Error\")\n",
        "pt.loglog(h_values, err_values)"
      ]
    },
    {
      "cell_type": "code",
      "execution_count": 12,
      "metadata": {
        "collapsed": false
      },
      "outputs": [],
      "source": []
    }
  ],
  "metadata": {},
  "nbformat": 4,
  "nbformat_minor": 2
}