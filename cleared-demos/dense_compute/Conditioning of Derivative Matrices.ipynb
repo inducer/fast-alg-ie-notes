{
  "cells": [
    {
      "cell_type": "markdown",
      "metadata": {},
      "source": [
        "# Conditioning of Derviative Matrices\n",
        "\n",
        "Construct a matrix that takes a (first) centered difference of a periodic function on $[0,1]$. Call that matrix `D`."
      ]
    },
    {
      "cell_type": "code",
      "execution_count": 3,
      "metadata": {
        "collapsed": true
      },
      "outputs": [],
      "source": [
        "import numpy as np\n",
        "import numpy.linalg as la\n",
        "import matplotlib.pyplot as plt"
      ]
    },
    {
      "cell_type": "code",
      "execution_count": 80,
      "metadata": {},
      "outputs": [],
      "source": [
        "npts = 100"
      ]
    },
    {
      "cell_type": "code",
      "execution_count": 81,
      "metadata": {},
      "outputs": [],
      "source": []
    },
    {
      "cell_type": "markdown",
      "metadata": {},
      "source": [
        "Or: an alternate matrix that's based on a global polynomial"
      ]
    },
    {
      "cell_type": "code",
      "execution_count": 70,
      "metadata": {},
      "outputs": [],
      "source": [
        "a = np.arange(npts, dtype=np.float64)\n",
        "\n",
        "# Chebyshev nodes\n",
        "nodes = np.cos((2*(a+1)-1)/(2*npts)*np.pi)\n",
        "\n",
        "x = nodes\n",
        "\n",
        "Vdm = np.empty((npts, npts))\n",
        "Vdm_deriv = np.zeros((npts, npts))\n",
        "for i in range(npts):\n",
        "    Vdm[:, i] = np.cos(i*np.arccos(x))\n",
        "    Vdm_deriv[:, i] = (i*np.sin(i*np.arccos(x)))/np.sqrt(1-x**2)\n",
        "        \n",
        "D = Vdm_deriv @ la.inv(Vdm)"
      ]
    },
    {
      "cell_type": "markdown",
      "metadata": {},
      "source": [
        "Test that the matrix actually takes derivatives:"
      ]
    },
    {
      "cell_type": "code",
      "execution_count": 82,
      "metadata": {},
      "outputs": [],
      "source": [
        "alpha = 3\n",
        "\n",
        "f = np.sin(alpha * 2*np.pi*x)\n",
        "df = alpha*2*np.pi*np.cos(alpha * 2*np.pi*x)\n",
        "\n",
        "print(la.norm(df - D@f, np.inf))"
      ]
    },
    {
      "cell_type": "code",
      "execution_count": 83,
      "metadata": {},
      "outputs": [],
      "source": [
        "plt.plot(x, D@f- df)\n",
        "plt.plot(x, df)"
      ]
    },
    {
      "cell_type": "markdown",
      "metadata": {},
      "source": [
        "Investigate the norm of this matrix."
      ]
    },
    {
      "cell_type": "code",
      "execution_count": 84,
      "metadata": {},
      "outputs": [],
      "source": []
    },
    {
      "cell_type": "markdown",
      "metadata": {},
      "source": [
        "What function gets amplified like that?"
      ]
    },
    {
      "cell_type": "code",
      "execution_count": 85,
      "metadata": {},
      "outputs": [],
      "source": []
    },
    {
      "cell_type": "code",
      "execution_count": 86,
      "metadata": {},
      "outputs": [],
      "source": [
        "plt.plot(amp_func)\n",
        "plt.plot(D@amp_func)"
      ]
    },
    {
      "cell_type": "markdown",
      "metadata": {},
      "source": [
        "Now, what's the conditioning of this matrix like?"
      ]
    },
    {
      "cell_type": "code",
      "execution_count": 77,
      "metadata": {},
      "outputs": [],
      "source": [
        "la.cond(D)"
      ]
    },
    {
      "cell_type": "markdown",
      "metadata": {},
      "source": [
        "OK, this may not be completely fair. But: can look at the spectrum:"
      ]
    },
    {
      "cell_type": "code",
      "execution_count": 87,
      "metadata": {},
      "outputs": [],
      "source": [
        "eigv = la.eigvals(D)\n",
        "\n",
        "plt.plot(eigv.real, eigv.imag, \"o\")\n",
        "plt.xlim([-2, 2])\n",
        "#plt.ylim([-2, 2])\n",
        "plt.grid()"
      ]
    },
    {
      "cell_type": "code",
      "execution_count": null,
      "metadata": {
        "collapsed": true
      },
      "outputs": [],
      "source": []
    }
  ],
  "metadata": {
    "kernelspec": {
      "display_name": "Python 3",
      "language": "python",
      "name": "python3"
    },
    "language_info": {
      "codemirror_mode": {
        "name": "ipython",
        "version": 3
      },
      "file_extension": ".py",
      "mimetype": "text/x-python",
      "name": "python",
      "nbconvert_exporter": "python",
      "pygments_lexer": "ipython3",
      "version": "3.6.2"
    }
  },
  "nbformat": 4,
  "nbformat_minor": 2
}